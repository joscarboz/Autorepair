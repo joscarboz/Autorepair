{
 "cells": [
  {
   "cell_type": "code",
   "execution_count": 21,
   "metadata": {},
   "outputs": [],
   "source": [
    "#Importamos todo lo necesario\n",
    "import random \n",
    "from deap import base, creator, tools, algorithms\n",
    "import numpy\n",
    "import operator\n",
    "import copy"
   ]
  },
  {
   "cell_type": "code",
   "execution_count": 2,
   "metadata": {},
   "outputs": [],
   "source": [
    "#Definimos como funciona cada tipo de puerta\n",
    "def AND_GATE(input1,input2):\n",
    "    if input1 == 1 and input2 == 1:\n",
    "        return 1\n",
    "    else:\n",
    "        return 0\n",
    "\n",
    "\n",
    "\n",
    "def NAND_GATE(input1,input2):\n",
    "    if input1 == 1 and input2 == 1:\n",
    "        return 0\n",
    "    else:\n",
    "        return 1\n",
    "\n",
    "\n",
    "def OR_GATE(input1,input2):\n",
    "    if input1 == 1:\n",
    "        return 1\n",
    "    elif input2 == 1:\n",
    "        return 1\n",
    "    else:\n",
    "        return 0\n",
    "\n",
    "\n",
    "def NOT_GATE(input1):\n",
    "    if input1 == 1:\n",
    "        return 0\n",
    "    else:\n",
    "        return 1\n",
    "    \n",
    "def XOR_GATE (input1,input2):\n",
    "    if input1==1 and input2==0:\n",
    "        return 1\n",
    "    elif input1==0 and input2==1:\n",
    "        return 1\n",
    "    else:\n",
    "        return 0"
   ]
  },
  {
   "cell_type": "code",
   "execution_count": 3,
   "metadata": {},
   "outputs": [],
   "source": [
    "#Método para averiar una puerta\n",
    "def averiar(circuito,i,j):\n",
    "    if circuito[i][j]!=6:\n",
    "        circuito[i][j]=6\n",
    "    return circuito"
   ]
  },
  {
   "cell_type": "code",
   "execution_count": 4,
   "metadata": {},
   "outputs": [],
   "source": [
    "#Este método toma un input y un circuito dado y construye una matriz output\n",
    "#Esta matriz contiene la salida de todas las puertas del circuito, conectadas aleatoriamente\n",
    "#Esto hace que sea útil si el circuito generado es aleatorio\n",
    "#Por tanto, la última fila representa el output real del circuito introducido.\n",
    "#El parámetro \"muestra\" sirve para pedir al método que imprima las conexiones o no.\n",
    "#Si en vez de conexiones aleatorias quisieramos fijarlas hariamos lo siguiente:\n",
    "#Un método que recibiera dos circuitos (el original y una variación de este) y un input\n",
    "#Para cada puerta del circuito original:\n",
    "#Si es igual en el circuito variación -> Se mantienen las mismas conexiones\n",
    "#Si es distinta -> Se generan conexiones aleatorias para esa puerta\n",
    "def simula_circuito(circuit_input,circuito,muestra):\n",
    "        random.seed(12345)\n",
    "        n=len(circuito)\n",
    "        m=len(circuito[0])\n",
    "        salidas=numpy.zeros((n,m))\n",
    "        array_input=circuit_input\n",
    "        salida_puertas=numpy.vstack((circuit_input,salidas))\n",
    "        for i in range(1,n+1):\n",
    "            for j in range(0,m):\n",
    "                if (i==1) and (circuito[i-1][j]==1):\n",
    "                    uno=random.randint(0,m-1)\n",
    "                    dos=random.randint(0,m-1)\n",
    "                    salida_puertas[i][j]=AND_GATE((array_input[uno]),(array_input[dos]))\n",
    "                    if(muestra==True):\n",
    "                        print(\"[\"+str(i)+\"]\"+\"[\"+str(j)+\"] = \" + \"Input[\"+str(uno)+\"] AND Input[\"+str(dos)+\"]\")\n",
    "                elif (i==1) and (circuito[i-1][j]==2):\n",
    "                    uno=random.randint(0,m-1)\n",
    "                    dos=random.randint(0,m-1)\n",
    "                    salida_puertas[i][j]=XOR_GATE((array_input[uno]),(array_input[dos]))\n",
    "                    print(\"[\"+str(i)+\"]\"+\"[\"+str(j)+\"] = \" + \"Input[\"+str(uno)+\"] XOR Input[\"+str(dos)+\"]\")\n",
    "                elif (i==1) and (circuito[i-1][j]==3):\n",
    "                    uno=random.randint(0,m-1)\n",
    "                    dos=random.randint(0,m-1)\n",
    "                    salida_puertas[i][j]=OR_GATE((array_input[uno]),(array_input[dos]))\n",
    "                    if(muestra==True):\n",
    "                        print(\"[\"+str(i)+\"]\"+\"[\"+str(j)+\"] = \" + \"Input[\"+str(uno)+\"] OR Input[\"+str(dos)+\"]\")\n",
    "                elif (i==1) and (circuito[i-1][j]==4):\n",
    "                    uno=random.randint(0,m-1)\n",
    "                    dos=random.randint(0,m-1)\n",
    "                    salida_puertas[i][j]=NAND_GATE((array_input[uno]),(array_input[dos]))\n",
    "                    if(muestra==True):\n",
    "                        print(\"[\"+str(i)+\"]\"+\"[\"+str(j)+\"] = \" + \"Input[\"+str(uno)+\"] NAND Input[\"+str(dos)+\"]\")\n",
    "                elif (i==1) and (circuito[i-1][j]==5):\n",
    "                    uno=random.randint(0,m-1)\n",
    "                    salida_puertas[i][j]=NOT_GATE((array_input[uno]))\n",
    "                    if(muestra==True):\n",
    "                        print(\"[\"+str(i)+\"]\"+\"[\"+str(j)+\"] = \" + \" NOT Input[\"+str(uno)+\"]\")\n",
    "                elif (i==1) and (circuito[i-1][j]==6):\n",
    "                    salida_puertas[i][j]=0\n",
    "                    if(muestra==True):\n",
    "                        print(\"[\"+str(i)+\"]\"+\"[\"+str(j)+\"] = \" + \"Rota\")\n",
    "                elif (i>1) and (circuito[i-1][j]==1):\n",
    "                    uno=random.randint(i-2,i-1)\n",
    "                    dos=random.randint(0,m-1)\n",
    "                    tres=random.randint(i-2,i-1)\n",
    "                    cuatro=random.randint(0,m-1)\n",
    "                    salida_puertas[i][j]=AND_GATE((salida_puertas[uno][dos]),(salida_puertas[tres][cuatro]))\n",
    "                    if(muestra==True):\n",
    "                        print(\"[\"+str(i)+\"][\"+str(j)+\"] = Salida[\"+str(uno)+\"][\"+str(dos)+\"] AND Salida[\"+str(tres)+\"][\"+str(cuatro)+\"]\")\n",
    "                elif (i>1) and (circuito[i-1][j]==2):\n",
    "                    uno=random.randint(i-2,i-1)\n",
    "                    dos=random.randint(0,m-1)\n",
    "                    tres=random.randint(i-2,i-1)\n",
    "                    cuatro=random.randint(0,m-1)\n",
    "                    salida_puertas[i][j]=XOR_GATE((salida_puertas[uno][dos]),(salida_puertas[tres][cuatro]))\n",
    "                    if(muestra==True):\n",
    "                        print(\"[\"+str(i)+\"]\"+\"[\"+str(j)+\"] = \" + \"Salida[\"+str(uno)+\"][\"+str(dos)+\"] XOR Salida[\"+str(tres)+\"][\"+str(cuatro)+\"]\")\n",
    "                elif (i>1) and (circuito[i-1][j]==3):\n",
    "                    uno=random.randint(i-2,i-1)\n",
    "                    dos=random.randint(0,m-1)\n",
    "                    tres=random.randint(i-2,i-1)\n",
    "                    cuatro=random.randint(0,m-1)\n",
    "                    salida_puertas[i][j]=OR_GATE((salida_puertas[uno][dos]),(salida_puertas[tres][cuatro]))\n",
    "                    if(muestra==True):\n",
    "                        print(\"[\"+str(i)+\"]\"+\"[\"+str(j)+\"] = \" + \"Salida[\"+str(uno)+\"][\"+str(dos)+\"] OR Salida[\"+str(tres)+\"][\"+str(cuatro)+\"]\")\n",
    "                elif (i>1) and (circuito[i-1][j]==4):\n",
    "                    uno=random.randint(i-2,i-1)\n",
    "                    dos=random.randint(0,m-1)\n",
    "                    tres=random.randint(i-2,i-1)\n",
    "                    cuatro=random.randint(0,m-1)\n",
    "                    salida_puertas[i][j]=NAND_GATE((salida_puertas[uno][dos]),(salida_puertas[tres][cuatro]))\n",
    "                    if(muestra==True):\n",
    "                        print(\"[\"+str(i)+\"]\"+\"[\"+str(j)+\"] = \" + \"Salida[\"+str(uno)+\"][\"+str(dos)+\"] NAND Salida[\"+str(tres)+\"][\"+str(cuatro)+\"]\")\n",
    "                elif (i>1) and (circuito[i-1][j]==5):\n",
    "                    uno=random.randint(i-2,i-1)\n",
    "                    dos=random.randint(0,m-1)\n",
    "                    salida_puertas[i][j]=NOT_GATE((salida_puertas[uno][dos]))\n",
    "                    if(muestra==True):\n",
    "                        print(\"[\"+str(i)+\"]\"+\"[\"+str(j)+\"] = \" + \"NOT Salida[\"+str(uno)+\"][\"+str(dos)+\"]\")\n",
    "                elif (i>1) and (circuito[i-1][j]==6):\n",
    "                    salida_puertas[i][j]=0\n",
    "                    if(muestra==True):\n",
    "                        print(\"[\"+str(i)+\"][\"+str(j)+\"]= Rota\")\n",
    "        output_total=numpy.zeros(m)\n",
    "        for l in range(0,m):\n",
    "            output_total[l]=(salida_puertas[n][l])\n",
    "        if muestra==False:\n",
    "            return output_total"
   ]
  },
  {
   "cell_type": "code",
   "execution_count": 5,
   "metadata": {},
   "outputs": [],
   "source": [
    "#Vamos a definir un método que compare 2 outputs \n",
    "#Este método nos dirá si ambos son iguales, o en caso contrario, cúanto se parecen\n",
    "def compara_salida(output1,output2):\n",
    "    tamaño_salida=len(output1)\n",
    "    parecido=0\n",
    "    for i in range(0,tamaño_salida):\n",
    "        if(output1[i]==output2[i]):\n",
    "            parecido=1+parecido\n",
    "        else:\n",
    "            parecido=parecido\n",
    "    return parecido/tamaño_salida"
   ]
  },
  {
   "cell_type": "code",
   "execution_count": 6,
   "metadata": {},
   "outputs": [],
   "source": [
    "#Nuestro objetivo será maximizar el parecido entre el output ideal y el obtenido\n",
    "creator.create('Fitness', base.Fitness, weights=(1.0,)) "
   ]
  },
  {
   "cell_type": "code",
   "execution_count": 7,
   "metadata": {},
   "outputs": [],
   "source": [
    "creator.create('Individuo', list, fitness = creator.Fitness)"
   ]
  },
  {
   "cell_type": "code",
   "execution_count": 8,
   "metadata": {},
   "outputs": [],
   "source": [
    "#Creamos una Toolbox para almacenar todo lo que necesitemos\n",
    "t_box = base.Toolbox()"
   ]
  },
  {
   "cell_type": "code",
   "execution_count": 9,
   "metadata": {},
   "outputs": [],
   "source": [
    "#Cromosomas binarios que representan qué puertas se van a cambiar y  cuales no\n",
    "t_box.register('gen', random.randint, 0, 1)"
   ]
  },
  {
   "cell_type": "code",
   "execution_count": 22,
   "metadata": {},
   "outputs": [
    {
     "name": "stdout",
     "output_type": "stream",
     "text": [
      "Número de capas del circuito: 4\n",
      "Puertas por capa: 4\n",
      "Circuito generado de 4 capas de 4 puertas:\n",
      "1\n",
      "0\n",
      "1\n",
      "1\n",
      "0\n",
      "1\n",
      "1\n",
      "0\n",
      "1\n",
      "0\n",
      "1\n",
      "1\n",
      "0\n",
      "0\n",
      "1\n",
      "0\n"
     ]
    }
   ],
   "source": [
    "M = int(input(\"Número de capas del circuito: \"))\n",
    "N=int(input(\"Puertas por capa: \"))\n",
    "print(\"Circuito generado de \" + str(M) + \" capas de \" + str(N) + \" puertas:\")\n",
    "random.seed(12345)  # Semilla para el mecanismo de generación de números aleatorios\n",
    "for _ in range((N*M)): #cada puerta consta de un gen para el tipo puerta y otros dos genes para las conexiones\n",
    "    print(t_box.gen()) #dame NxM genes"
   ]
  },
  {
   "cell_type": "code",
   "execution_count": 11,
   "metadata": {},
   "outputs": [],
   "source": [
    "#Definimos que los individuos tengan N*M genes, representando versiones del circuito\n",
    "#con distintas puertas\n",
    "t_box.register('individuo', tools.initRepeat,\n",
    "                              container=creator.Individuo, func=t_box.gen, n=(N*M))"
   ]
  },
  {
   "cell_type": "code",
   "execution_count": 12,
   "metadata": {},
   "outputs": [],
   "source": [
    "#Definimos una población de 10 individuos\n",
    "t_box.register('población', tools.initRepeat,\n",
    "                              container=list, func=t_box.individuo, n=10)"
   ]
  },
  {
   "cell_type": "code",
   "execution_count": 13,
   "metadata": {},
   "outputs": [],
   "source": [
    "#Definimos un fenotipo por el cual cada 1 en un individuo cambie una puerta del circuito\n",
    "#dado por otra puerta aleatoria (incluida una averiada ya que el AG no sabe cual está rota)\n",
    "def fenotipo(individuo):\n",
    "    random.seed(12345)\n",
    "    n=len(circuito_1)\n",
    "    m=len(circuito_1[0])\n",
    "    individuo_trans=numpy.array(individuo).reshape(n,m)\n",
    "    circuito_fenotipo=copy.deepcopy(circuito_roto)\n",
    "    for i in range(0,n):\n",
    "        for j in range(0,m):\n",
    "            if (individuo_trans[i][j]==1):\n",
    "                circuito_fenotipo[i][j]=random.randint(1,6)\n",
    "    return circuito_fenotipo\n",
    "                \n",
    "#Definimos un método de evaluación que compare la salida del circuito alternativo con\n",
    "#la del fenotipo dado\n",
    "def evaluar_individuo(individuo,):\n",
    "    individuo_fen=fenotipo(individuo)\n",
    "    kll=len(inputs)\n",
    "    cal=0\n",
    "    for i in range(0,kll):\n",
    "        cal = cal + (abs(compara_salida(simula_circuito(inputs[i],circuito_1,False),(simula_circuito(inputs[i],individuo_fen,False)))))\n",
    "    return (abs(cal),)\n",
    "t_box.register('evaluate', evaluar_individuo)"
   ]
  },
  {
   "cell_type": "code",
   "execution_count": 14,
   "metadata": {},
   "outputs": [],
   "source": [
    "#Definimos un método de mutar y uno de cruzar los genes de dos individuos\n",
    "t_box.register('mate', tools.cxOnePoint)\n",
    "t_box.register('mutate', tools.mutFlipBit, indpb=0.5)\n",
    "# indpb es la probabilidad de mutación de cada gen del cromosoma"
   ]
  },
  {
   "cell_type": "code",
   "execution_count": 15,
   "metadata": {},
   "outputs": [],
   "source": [
    "t_box.register('select', tools.selTournament, tournsize=3)"
   ]
  },
  {
   "cell_type": "code",
   "execution_count": 16,
   "metadata": {},
   "outputs": [],
   "source": [
    "# Estadísticas sobre el fitness de los individuos: mínimo, media y máximo\n",
    "# Nota: usamos para ello las funciones correspondientes de numpy, porque los\n",
    "# valores de fitness están guardados en tuplas\n",
    "estadísticas = tools.Statistics(lambda ind: ind.fitness.values)\n",
    "estadísticas.register(\"mínimo\", numpy.min)\n",
    "estadísticas.register(\"media\", numpy.mean)\n",
    "estadísticas.register(\"máximo\", numpy.max)\n",
    "\n",
    "# Salón de la fama para recopilar los tres mejores individuos de todas las generaciones\n",
    "salón_fama = tools.HallOfFame(3)"
   ]
  },
  {
   "cell_type": "code",
   "execution_count": 23,
   "metadata": {
    "scrolled": true
   },
   "outputs": [
    {
     "name": "stdout",
     "output_type": "stream",
     "text": [
      "Circuito: \n",
      "[[4. 1. 3. 3.]\n",
      " [2. 3. 5. 4.]\n",
      " [2. 3. 1. 4.]\n",
      " [3. 5. 2. 5.]]\n"
     ]
    }
   ],
   "source": [
    "#Vamos a definir un circuito base:\n",
    "n=4\n",
    "m=4\n",
    "circuito_1 = numpy.zeros((n,m))\n",
    "random.seed(12345)\n",
    "for i in range(0,n):\n",
    "    for j in range(0,m):\n",
    "        circuito_1[i][j]=random.randint(1,5)\n",
    "print(\"Circuito: \\n\" + str(circuito_1))\n",
    "\n",
    "#Creamos dos arrays: uno lleno de inputs y otro de sus correspondientes outputs\n",
    "inputs=[]\n",
    "outputs=[]\n",
    "inputs.append([0,0,0,0])\n",
    "inputs.append([0,0,0,1])\n",
    "inputs.append([0,0,1,0])\n",
    "inputs.append([1,1,0,0])\n",
    "\n",
    "\n",
    "kl=len(inputs)\n",
    "for i in range(0,kl):\n",
    "    outputs.append((simula_circuito(inputs[i],circuito_1,False)))\n"
   ]
  },
  {
   "cell_type": "code",
   "execution_count": 24,
   "metadata": {},
   "outputs": [
    {
     "name": "stdout",
     "output_type": "stream",
     "text": [
      "Conexiones: \n",
      "\n",
      "[1][0] = Input[3] NAND Input[0]\n",
      "[1][1] = Input[2] AND Input[2]\n",
      "[1][2] = Input[1] OR Input[2]\n",
      "[1][3] = Input[3] OR Input[1]\n",
      "[2][0] = Salida[1][0] XOR Salida[1][2]\n",
      "[2][1] = Salida[0][1] OR Salida[1][0]\n",
      "[2][2] = NOT Salida[1][1]\n",
      "[2][3] = Salida[0][1] NAND Salida[0][1]\n",
      "[3][0] = Salida[2][2] XOR Salida[1][3]\n",
      "[3][1] = Salida[2][0] OR Salida[2][0]\n",
      "[3][2] = Salida[1][1] AND Salida[1][2]\n",
      "[3][3] = Salida[1][3] NAND Salida[1][1]\n",
      "[4][0] = Salida[3][1] OR Salida[3][0]\n",
      "[4][1] = NOT Salida[2][0]\n",
      "[4][2] = Salida[3][1] XOR Salida[2][2]\n",
      "[4][3] = NOT Salida[3][1]\n"
     ]
    }
   ],
   "source": [
    "print(\"Conexiones: \\n\")\n",
    "simula_circuito(inputs[0],circuito_1,True)"
   ]
  },
  {
   "cell_type": "code",
   "execution_count": 19,
   "metadata": {},
   "outputs": [
    {
     "data": {
      "text/plain": [
       "array([[4., 6., 3., 3.],\n",
       "       [2., 6., 5., 4.],\n",
       "       [2., 3., 1., 4.],\n",
       "       [3., 5., 2., 5.]])"
      ]
     },
     "execution_count": 19,
     "metadata": {},
     "output_type": "execute_result"
    }
   ],
   "source": [
    "#Vamos a averiar un par de puertas y a ver si influye en la nueva salida\n",
    "#Recordar que hay que hacer una copia del circuito que vamos a averiar\n",
    "#De esta forma, tendremos por un lado el circuito estropeado y por otro el circuito ideal\n",
    "#Esto se debe a que las asignaciones \"=\" en Python hacen que al modificar un objeto,\n",
    "#el otro también se modifique. Esto dejaría dos circuitos averiados y no serviría\n",
    "circuito_roto = copy.deepcopy(circuito_1)\n",
    "averiar(circuito_roto,0,1)\n",
    "averiar(circuito_roto,1,1)"
   ]
  },
  {
   "cell_type": "code",
   "execution_count": 20,
   "metadata": {},
   "outputs": [
    {
     "name": "stdout",
     "output_type": "stream",
     "text": [
      "gen\tnevals\tmínimo\tmedia\tmáximo\n",
      "0  \t10    \t1.5   \t2.1  \t3     \n",
      "1  \t9     \t1.75  \t2.075\t2.75  \n",
      "2  \t9     \t0.75  \t1.9  \t2.75  \n",
      "3  \t10    \t0.75  \t1.7  \t2.25  \n",
      "4  \t9     \t1.5   \t2    \t2.25  \n",
      "5  \t9     \t1.75  \t2.05 \t2.25  \n",
      "6  \t9     \t1.75  \t2.15 \t2.25  \n",
      "7  \t9     \t0.75  \t1.95 \t2.75  \n",
      "8  \t10    \t1.75  \t2.025\t2.75  \n",
      "9  \t9     \t1     \t2.025\t2.5   \n",
      "10 \t9     \t1.25  \t2.225\t2.75  \n",
      "11 \t10    \t1.5   \t1.95 \t2.75  \n",
      "12 \t10    \t1.75  \t2.05 \t2.5   \n",
      "13 \t9     \t0.75  \t1.825\t2.5   \n",
      "14 \t10    \t1.5   \t2.075\t2.75  \n",
      "15 \t9     \t1.25  \t2.175\t2.75  \n",
      "16 \t10    \t1.75  \t2.275\t2.75  \n",
      "17 \t9     \t1.75  \t2.125\t2.75  \n",
      "18 \t9     \t1.5   \t2.125\t2.75  \n",
      "19 \t9     \t1     \t1.95 \t2.75  \n",
      "20 \t9     \t1.75  \t2.15 \t2.75  \n",
      "Las tres mejor soluciones encontradas han sido:\n",
      "[0, 1, 1, 0, 1, 1, 1, 0, 1, 1, 0, 1, 0, 0, 0, 0] (3.0,)\n",
      "\n",
      " Lo que se traduce en el siguiente circuito: \n",
      "[[4. 4. 6. 3.]\n",
      " [1. 3. 3. 4.]\n",
      " [2. 3. 1. 5.]\n",
      " [3. 5. 2. 5.]]\n",
      "[1][0] = Input[3] NAND Input[0]\n",
      "[1][1] = Input[2] NAND Input[2]\n",
      "[1][2] = Rota\n",
      "[1][3] = Input[1] OR Input[2]\n",
      "[2][0] = Salida[1][1] AND Salida[1][0]\n",
      "[2][1] = Salida[1][2] OR Salida[0][1]\n",
      "[2][2] = Salida[1][0] OR Salida[1][1]\n",
      "[2][3] = Salida[0][1] NAND Salida[0][1]\n",
      "[3][0] = Salida[2][2] XOR Salida[1][3]\n",
      "[3][1] = Salida[2][0] OR Salida[2][0]\n",
      "[3][2] = Salida[1][1] AND Salida[1][2]\n",
      "[3][3] = NOT Salida[1][3]\n",
      "[4][0] = Salida[2][1] OR Salida[3][1]\n",
      "[4][1] = NOT Salida[3][0]\n",
      "[4][2] = Salida[2][0] XOR Salida[3][1]\n",
      "[4][3] = NOT Salida[2][2]\n",
      "None\n",
      "Coinciden 2 de 4 salidas\n",
      "[1, 1, 1, 1, 1, 1, 1, 1, 0, 1, 0, 0, 1, 1, 0, 0] (2.75,)\n",
      "\n",
      " Lo que se traduce en el siguiente circuito: \n",
      "[[4. 6. 1. 3.]\n",
      " [3. 2. 3. 5.]\n",
      " [2. 4. 1. 4.]\n",
      " [2. 3. 2. 5.]]\n",
      "[1][0] = Input[3] NAND Input[0]\n",
      "[1][1] = Rota\n",
      "[1][2] = Input[2] AND Input[2]\n",
      "[1][3] = Input[1] OR Input[2]\n",
      "[2][0] = Salida[1][1] OR Salida[1][0]\n",
      "[2][1] = Salida[1][2] XOR Salida[0][1]\n",
      "[2][2] = Salida[1][0] OR Salida[1][1]\n",
      "[2][3] = NOT Salida[0][1]\n",
      "[3][0] = Salida[1][1] XOR Salida[2][2]\n",
      "[3][1] = Salida[1][3] NAND Salida[2][0]\n",
      "[3][2] = Salida[2][0] AND Salida[1][1]\n",
      "[3][3] = Salida[1][2] NAND Salida[1][3]\n",
      "[4][0] = Salida[2][1] XOR Salida[3][1]\n",
      "[4][1] = Salida[3][0] OR Salida[2][0]\n",
      "[4][2] = Salida[3][1] XOR Salida[2][2]\n",
      "[4][3] = NOT Salida[3][1]\n",
      "None\n",
      "Coinciden 0 de 4 salidas\n",
      "[0, 1, 0, 0, 1, 1, 0, 1, 0, 0, 0, 1, 1, 0, 1, 1] (2.75,)\n",
      "\n",
      " Lo que se traduce en el siguiente circuito: \n",
      "[[4. 4. 3. 3.]\n",
      " [6. 1. 5. 3.]\n",
      " [2. 3. 1. 3.]\n",
      " [2. 5. 3. 5.]]\n",
      "[1][0] = Input[3] NAND Input[0]\n",
      "[1][1] = Input[2] NAND Input[2]\n",
      "[1][2] = Input[1] OR Input[2]\n",
      "[1][3] = Input[3] OR Input[1]\n",
      "[2][0]= Rota\n",
      "[2][1] = Salida[1][0] AND Salida[1][2]\n",
      "[2][2] = NOT Salida[0][1]\n",
      "[2][3] = Salida[1][0] OR Salida[1][1]\n",
      "[3][0] = Salida[1][1] XOR Salida[1][1]\n",
      "[3][1] = Salida[2][2] OR Salida[1][3]\n",
      "[3][2] = Salida[2][0] AND Salida[2][0]\n",
      "[3][3] = Salida[1][1] OR Salida[1][2]\n",
      "[4][0] = Salida[2][3] XOR Salida[2][1]\n",
      "[4][1] = NOT Salida[3][1]\n",
      "[4][2] = Salida[3][0] OR Salida[2][0]\n",
      "[4][3] = NOT Salida[3][1]\n",
      "None\n",
      "Coinciden 2 de 4 salidas\n"
     ]
    }
   ],
   "source": [
    "población_inicial = t_box.población()\n",
    "población, registro = algorithms.eaSimple(población_inicial,\n",
    "                                          t_box,\n",
    "                                          cxpb=0.5, # Probabilidad de que dos individuos contiguos se crucen\n",
    "                                          mutpb=0.8, # Probabilidad de que un individuo mute\n",
    "                                          ngen=20, # Número de generaciones\n",
    "                                          stats=estadísticas,\n",
    "                                          halloffame=salón_fama)\n",
    "print('Las tres mejor soluciones encontradas han sido:')\n",
    "for individuo in salón_fama:\n",
    "    print(individuo, t_box.evaluate(individuo))\n",
    "    print(\"\\n Lo que se traduce en el siguiente circuito: \\n\" + str(fenotipo(individuo)))\n",
    "    print( str(simula_circuito(inputs[0],fenotipo(individuo),True)))\n",
    "    lg=(len(inputs))\n",
    "    res=0\n",
    "    for i in range(0,lg):\n",
    "        if (compara_salida((simula_circuito((inputs[i]),(fenotipo(individuo)),(False))),(outputs[i]))==(1)):\n",
    "            res = 1 + res\n",
    "    if res==lg:\n",
    "        print(\"Autoreparación completa\")\n",
    "    else:\n",
    "        print(\"Coinciden \" + str(res) + \" de \" + str(lg) + \" salidas\")\n",
    "   "
   ]
  },
  {
   "cell_type": "code",
   "execution_count": null,
   "metadata": {},
   "outputs": [],
   "source": []
  },
  {
   "cell_type": "code",
   "execution_count": null,
   "metadata": {},
   "outputs": [],
   "source": []
  }
 ],
 "metadata": {
  "kernelspec": {
   "display_name": "Python 3",
   "language": "python",
   "name": "python3"
  },
  "language_info": {
   "codemirror_mode": {
    "name": "ipython",
    "version": 3
   },
   "file_extension": ".py",
   "mimetype": "text/x-python",
   "name": "python",
   "nbconvert_exporter": "python",
   "pygments_lexer": "ipython3",
   "version": "3.6.5"
  }
 },
 "nbformat": 4,
 "nbformat_minor": 2
}
